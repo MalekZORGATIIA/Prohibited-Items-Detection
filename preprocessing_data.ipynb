{
 "cells": [
  {
   "cell_type": "markdown",
   "id": "129664c1",
   "metadata": {},
   "source": [
    "# Data Preprocessing"
   ]
  },
  {
   "cell_type": "markdown",
   "id": "36bb1ee9",
   "metadata": {},
   "source": [
    "In this part, we will follow these steps:\n",
    " - 1: Make a list of filenames\n",
    " - 2: Resize the image\n",
    " - 3: create a dataframe then save it as csv file"
   ]
  },
  {
   "cell_type": "markdown",
   "id": "d2989c9e",
   "metadata": {},
   "source": [
    "Let's start !"
   ]
  },
  {
   "cell_type": "markdown",
   "id": "79ce855a",
   "metadata": {},
   "source": [
    "We must first import the necessary libraries"
   ]
  },
  {
   "cell_type": "code",
   "execution_count": null,
   "id": "79a2cf05",
   "metadata": {},
   "outputs": [],
   "source": [
    "#librairies\n",
    "import os\n",
    "import csv\n",
    "import pandas as pd\n",
    "import numpy as np\n",
    "import cv2\n",
    "import matplotlib.pyplot as plt"
   ]
  },
  {
   "cell_type": "code",
   "execution_count": null,
   "id": "fc186c18",
   "metadata": {},
   "outputs": [],
   "source": [
    "def filelist(root,file_type):\n",
    "    \"\"\"returns filenames under root directory\"\"\" \n",
    "    listefiles=[]\n",
    "    for directory_path,directory_name,files in os.walk(root):\n",
    "        for f in files :\n",
    "            if f.endswith(file_type):\n",
    "                listefiles.append(os.path.join(directory_path,f))\n",
    "    return listefiles"
   ]
  },
  {
   "cell_type": "code",
   "execution_count": null,
   "id": "b07177f6",
   "metadata": {},
   "outputs": [],
   "source": [
    "def generate_train_df(anno_path):\n",
    "    \"\"\"returns dataframe of our data \n",
    "       Columns: filename,class,xmin,ymin,xmax,ymax\"\"\"\n",
    "    \n",
    "    annotations = filelist(anno_path,\".txt\")\n",
    "    anno_list=[]\n",
    "    for path in annotations:\n",
    "        anno ={}\n",
    "        with open(path) as f:\n",
    "            lines = ''.join(f.readlines())\n",
    "            infos = lines.split()\n",
    "            if (  int(infos[2]) < 0 or  int(infos[3])<0 or int(infos[4])<0 or  int(infos[5])<0 ):\n",
    "                continue\n",
    "            else:\n",
    "                anno['filename'] = infos[0]\n",
    "                anno['class'] = infos[1]\n",
    "                anno['xmin'] = int(infos[2])\n",
    "                anno['ymin'] = int(infos[3])\n",
    "                anno['xmax'] = int(infos[4])\n",
    "                anno['ymax'] = int(infos[5])\n",
    "                anno_list.append(anno)\n",
    "    return pd.DataFrame(anno_list)\n",
    "            "
   ]
  },
  {
   "cell_type": "code",
   "execution_count": null,
   "id": "2cbe867f",
   "metadata": {},
   "outputs": [],
   "source": [
    "def resize_image_bb(images_path,img_name,write_path,bb,size):\n",
    "    img = cv2.imread(os.path.join(images_path,img_name))\n",
    "    (h,w) = img.shape\n",
    "    img_resized = cv2.resize(img,(size,size))\n",
    "    #Here you have to choice between saving the resized images in a directory \n",
    "    #or just put them  in a list\n",
    "    # To save it in directory:\n",
    "    new_path = os.path.join(write_path,img_name)\n",
    "    cv2.imwrite(new_path,cv2.cvtColor(img_resized,cv2.COLOR_RGB2BGR))\n",
    "    bb= [bb[0]/w,bb[1]/h,bb[2]/w,bb[3]/h]\n",
    "    return new_path,bb"
   ]
  },
  {
   "cell_type": "code",
   "execution_count": null,
   "id": "015e0d54",
   "metadata": {},
   "outputs": [],
   "source": [
    "def bb_to_array(x):\n",
    "        return (np.array((x[3],x[2],x[5],x[4])))"
   ]
  },
  {
   "cell_type": "code",
   "execution_count": null,
   "id": "89187be6",
   "metadata": {},
   "outputs": [],
   "source": [
    "def to_csvFile(ANNOTS_PATH,IMAGES_PATH,WRITE_NEW_IMAGES_PATH,CLASSES_DICT,IMAGE_SIZE):\n",
    "    new_paths=[]\n",
    "    new_bbs=[]\n",
    "    df_train =  generate_train_df(ANNOTS_PATH)\n",
    "    df_train['class']=df_train['class'].apply(lambda x :CLASSES_DICT[x])\n",
    "    \n",
    "    for index,row in df_train.iterrows():\n",
    "        try:\n",
    "            new_path,new_bb = resize_image_bb(IMAGES_PATH ,row[\"filename\"],WRITE_NEW_IMAGES_PATH,bb_array(row.values),IMAGE_SIZE)\n",
    "            new_paths.append(new_path)\n",
    "            new_bbs.append(new_bb)\n",
    "        except:\n",
    "            df_train =df_train.drop(df_train[df_train[\"filename\"] == row[\"filename\"] ].index)\n",
    "    \n",
    "    \n",
    "    df_train[\"new_path\"]=new_paths\n",
    "    df_train[\"new_bb\"]=new_bbs\n",
    "    \n",
    "    df_train.to_csv(\"data_CSVFile.csv\",index=False)\n",
    "    print(\"[INFO] data_CSVFile.csv was created in the current directory\")\n",
    "    return(\"annotation_data.csv\")"
   ]
  },
  {
   "cell_type": "markdown",
   "id": "129eab97",
   "metadata": {},
   "source": [
    "Now we can use this functions to get our csv file wich contains:\n",
    "    -filename: image name\n",
    "    -class: category of object in the image\n",
    "    -the default bounding box (before resizing the image):\n",
    "      xmin,ymin,xmax,ymax\n",
    "    -new_path: where resized images were saved\n",
    "    -new_bb: a list of the reation between bounding box and the real dimensions of image (for example        \n",
    "     xmin/width of image\n",
    "    "
   ]
  },
  {
   "cell_type": "markdown",
   "id": "1a77765c",
   "metadata": {},
   "source": [
    "This CSV file will help us in the second phase of the project!"
   ]
  }
 ],
 "metadata": {
  "kernelspec": {
   "display_name": "Python 3",
   "language": "python",
   "name": "python3"
  },
  "language_info": {
   "codemirror_mode": {
    "name": "ipython",
    "version": 3
   },
   "file_extension": ".py",
   "mimetype": "text/x-python",
   "name": "python",
   "nbconvert_exporter": "python",
   "pygments_lexer": "ipython3",
   "version": "3.8.8"
  }
 },
 "nbformat": 4,
 "nbformat_minor": 5
}
