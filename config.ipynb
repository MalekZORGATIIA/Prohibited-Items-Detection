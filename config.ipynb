{
 "cells": [
  {
   "cell_type": "code",
   "execution_count": null,
   "id": "2ad90b53",
   "metadata": {},
   "outputs": [],
   "source": [
    "import os\n",
    "\n",
    "IMAGES_PATH = \"detection_x_ray_baggage/train/images\"\n",
    "ANNOTS_PATH=\"detection_x_ray_baggage/train/labels\"\n",
    "WRITE_NEW_IMAGES_PATH =\"Datasets/new_data\"\n",
    "CLASSES_DICT={'Scissor':0,'Folding_Knife':1,'Straight_Knife':2,'Utility_Knife':3,'Multi-tool_Knife':4}\n",
    "IMAGE_SIZE =640\n",
    "\n",
    "#output directory\n",
    "BASE_OUTPUT = \"output directory\"\n",
    "MODEL_PATH = os.path.join(BASE_OUTPUT,\"detector.h5\")\n",
    "LB_PATH= os.path.join(BASE_OUTPUT,\"lb.pickle\")\n",
    "PLOTS_PATH = os.path.join(BASE_OUTPUT,\"plots\")\n",
    "TEST_PATH = os.path.join(BASE_OUTPUT,\"test_paths.txt\")\n",
    "\n",
    "#Initialize the initial learning rate, number of epochs and the batch size\n",
    "INIT_LR = 1e-2\n",
    "NUM_EPOCHS = 10\n",
    "BATCH_SIZE= 32"
   ]
  }
 ],
 "metadata": {
  "kernelspec": {
   "display_name": "Python 3",
   "language": "python",
   "name": "python3"
  },
  "language_info": {
   "codemirror_mode": {
    "name": "ipython",
    "version": 3
   },
   "file_extension": ".py",
   "mimetype": "text/x-python",
   "name": "python",
   "nbconvert_exporter": "python",
   "pygments_lexer": "ipython3",
   "version": "3.8.8"
  }
 },
 "nbformat": 4,
 "nbformat_minor": 5
}
